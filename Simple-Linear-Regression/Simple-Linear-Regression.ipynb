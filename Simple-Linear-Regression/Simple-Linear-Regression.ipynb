{
 "cells": [
  {
   "cell_type": "code",
   "execution_count": null,
   "id": "6428f5f2",
   "metadata": {},
   "outputs": [],
   "source": [
    "from google.colab import drive\n",
    "drive.mount('/content/drive')\n",
    "\n",
    "\n",
    "import os, warnings\n",
    "import numpy as np\n",
    "import pandas as pd\n",
    "import matplotlib.pyplot as plt\n",
    "from IPython.display import display\n",
    "from sklearn.model_selection import train_test_split\n",
    "from sklearn.linear_model import LinearRegression\n",
    "from sklearn.pipeline import Pipeline\n",
    "from sklearn.metrics import mean_absolute_error, mean_squared_error, r2_score\n",
    "\n",
    "CSV_PATH = \"/content/drive/MyDrive/ML/student_marks.csv\"\n",
    "df = pd.read_csv(CSV_PATH)\n",
    "print(df)"
   ]
  },
  {
   "cell_type": "code",
   "execution_count": null,
   "id": "aa80edd8",
   "metadata": {},
   "outputs": [],
   "source": [
    "display(df.head())\n",
    "display(df.info())\n",
    "display(df.describe())\n",
    "df.isnull()\n",
    "display(df.isnull().sum())\n",
    "df.isnull().sum().plot(kind=\"bar\")\n",
    "plt.show()\n",
    "df.isnull().sum().plot(kind=\"pie\")\n",
    "plt.show()"
   ]
  },
  {
   "cell_type": "code",
   "execution_count": null,
   "id": "f4400243",
   "metadata": {},
   "outputs": [],
   "source": [
    "\n",
    "df['study_hours'] = df['study_hours'].fillna(df['study_hours'].mean())\n",
    "\n",
    "display(df.isnull().sum())"
   ]
  },
  {
   "cell_type": "code",
   "execution_count": null,
   "id": "eff0b528",
   "metadata": {},
   "outputs": [],
   "source": [
    "X = df[[\"study_hours\"]].values\n",
    "y = df[\"student_marks\"].values\n",
    "\n",
    "X_train, X_test, y_train, y_test = train_test_split(\n",
    "    X, y, test_size=0.2, random_state=42\n",
    ")\n",
    "\n",
    "print(X_train)\n",
    "\n",
    "print(y_train)\n",
    "\n",
    "print(X_test)\n",
    "\n",
    "print(y_test)"
   ]
  },
  {
   "cell_type": "code",
   "execution_count": null,
   "id": "d196a065",
   "metadata": {},
   "outputs": [],
   "source": [
    "lr_simple = LinearRegression()\n",
    "lr_simple.fit(X_train, y_train)\n",
    "\n",
    "y_pred_simple = lr_simple.predict(X_test)\n",
    "\n",
    "# Metrics\n",
    "mae = mean_absolute_error(y_test, y_pred_simple)\n",
    "rmse = np.sqrt(mean_squared_error(y_test, y_pred_simple))\n",
    "r2 = r2_score(y_test, y_pred_simple)\n",
    "\n",
    "print(\"Simple LR Metrics:\")\n",
    "print(f\"  Coefficient (slope): {lr_simple.coef_[0]:.4f}\")\n",
    "print(f\"  Intercept: {lr_simple.intercept_:.4f}\")\n",
    "print(f\"  MAE  : {mae:.4f}\")\n",
    "print(f\"  RMSE : {rmse:.4f}\")\n",
    "print(f\"  R²   : {r2:.4f}\")\n",
    "\n",
    "# Plot simple regression line\n",
    "plt.scatter(X_train, y_train, label=\"Train\", alpha=0.7)\n",
    "plt.scatter(X_test, y_test, label=\"Test\", alpha=0.7)\n",
    "plt.plot(X, lr_simple.predict(X), color=\"red\", linewidth=2, label=\"Simple LR Line\")\n",
    "plt.xlabel(\"Study Hours\")\n",
    "plt.ylabel(\"Marks\")\n",
    "plt.title(\"Simple Linear Regression\")\n",
    "plt.legend()\n",
    "plt.show()"
   ]
  }
 ],
 "metadata": {
  "language_info": {
   "name": "python"
  }
 },
 "nbformat": 4,
 "nbformat_minor": 5
}
